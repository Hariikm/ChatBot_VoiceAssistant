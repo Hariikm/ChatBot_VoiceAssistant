{
 "cells": [
  {
   "cell_type": "markdown",
   "metadata": {},
   "source": [
    "    ### You can use the below codes in terminal ( git bash to declare env variables)\n",
    "\n",
    "conda env config vars set API_KEY=your_api_key\n",
    "\n",
    "conda env config vars set SECRET_KEY=your_secret_key"
   ]
  }
 ],
 "metadata": {
  "language_info": {
   "name": "python"
  }
 },
 "nbformat": 4,
 "nbformat_minor": 2
}
